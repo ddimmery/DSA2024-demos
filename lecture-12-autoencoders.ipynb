{
 "cells": [
  {
   "cell_type": "code",
   "execution_count": 1,
   "metadata": {},
   "outputs": [],
   "source": [
    "import torch\n",
    "import torch.utils.data\n",
    "from torch import nn, optim\n",
    "from torch.nn import functional as F\n",
    "from torchvision import datasets, transforms\n",
    "from torchvision.utils import save_image"
   ]
  },
  {
   "cell_type": "markdown",
   "metadata": {},
   "source": [
    "Set some arguments we will use to control how training works."
   ]
  },
  {
   "cell_type": "code",
   "execution_count": 2,
   "metadata": {},
   "outputs": [],
   "source": [
    "from dataclasses import dataclass\n",
    "\n",
    "@dataclass\n",
    "class Args:\n",
    "    \"\"\"Class for keeping track of training parameters\"\"\"\n",
    "    batch_size: int = 128\n",
    "    epochs: int = 10\n",
    "    log_interval: int = 300\n",
    "\n",
    "args = Args()"
   ]
  },
  {
   "cell_type": "markdown",
   "metadata": {},
   "source": [
    "Define data loaders. We'll be using the MNIST dataset of handwritten digits."
   ]
  },
  {
   "cell_type": "code",
   "execution_count": 3,
   "metadata": {},
   "outputs": [],
   "source": [
    "train_loader = torch.utils.data.DataLoader(\n",
    "    datasets.MNIST('../data', train=True, download=True,\n",
    "                   transform=transforms.ToTensor()),\n",
    "    batch_size=args.batch_size, shuffle=True)\n",
    "test_loader = torch.utils.data.DataLoader(\n",
    "    datasets.MNIST('../data', train=False, transform=transforms.ToTensor()),\n",
    "    batch_size=args.batch_size, shuffle=False)"
   ]
  },
  {
   "cell_type": "markdown",
   "metadata": {},
   "source": [
    "We'll start with a fully linear model. This will just be normal PCA, but estimated using SGD."
   ]
  },
  {
   "cell_type": "code",
   "execution_count": 4,
   "metadata": {},
   "outputs": [],
   "source": [
    "class PCA(nn.Module):\n",
    "    def __init__(self, num_dimensions = 10, num_pixels = 784):\n",
    "        super(PCA, self).__init__()\n",
    "        self.num_pixels = num_pixels\n",
    "\n",
    "        self.fc1 = nn.Linear(self.num_pixels, num_dimensions)\n",
    "        self.fc2 = nn.Linear(num_dimensions, self.num_pixels)\n",
    "\n",
    "    def encode(self, x):\n",
    "        return self.fc1(x)\n",
    "\n",
    "    def decode(self, z):\n",
    "        return self.fc2(z)\n",
    "\n",
    "    def forward(self, x):\n",
    "        rep = self.encode(x.view(-1, self.num_pixels))\n",
    "        return self.decode(rep)"
   ]
  },
  {
   "cell_type": "markdown",
   "metadata": {},
   "source": [
    "Next, we'll define a Bottleneck Autoencoder. We'll reduce down the high-dimensional (28 x 28 pixel image) data to 10 dimensions and see how well we do.\n",
    "\n",
    "This is a pretty rudimentary model. See if you can modify it to work even better, for example by adding in convolutions.\n",
    "\n",
    "For example, see [this tutorial](https://bytepawn.com/building-a-pytorch-autoencoder-for-mnist-digits.html)"
   ]
  },
  {
   "cell_type": "code",
   "execution_count": 5,
   "metadata": {},
   "outputs": [],
   "source": [
    "class BottleneckAE(nn.Module):\n",
    "    def __init__(self, num_dimensions = 10, num_pixels = 784):\n",
    "        super(BottleneckAE, self).__init__()\n",
    "        self.num_pixels = num_pixels\n",
    "\n",
    "        self.encoder = nn.Sequential(\n",
    "            nn.Linear(self.num_pixels, 512),\n",
    "            nn.ReLU(),\n",
    "            nn.Linear(512, 128),\n",
    "            nn.ReLU(),\n",
    "            nn.Linear(128, num_dimensions)\n",
    "        )\n",
    "        self.decoder = nn.Sequential(\n",
    "            nn.Linear(num_dimensions, 128),\n",
    "            nn.ReLU(),\n",
    "            nn.Linear(128, 512),\n",
    "            nn.ReLU(),\n",
    "            nn.Linear(512, self.num_pixels)\n",
    "        )\n",
    "\n",
    "    def forward(self, x):\n",
    "        rep = self.encoder(x.view(-1, self.num_pixels))\n",
    "        return self.decoder(rep)"
   ]
  },
  {
   "cell_type": "markdown",
   "metadata": {},
   "source": [
    "Now we'll define our error function: just the reconstruction error we defined in the lecture.\n",
    "\n",
    "We'll also create functions to train and evaluate our models."
   ]
  },
  {
   "cell_type": "code",
   "execution_count": 6,
   "metadata": {},
   "outputs": [],
   "source": [
    "def reconstruction_error(recon_x, x):\n",
    "    return torch.mean(torch.pow(recon_x.view(-1, 784) -x.view(-1, 784), 2))\n",
    "\n",
    "loss_function = reconstruction_error\n",
    "\n",
    "def train_basic(epoch, model, optimizer):\n",
    "    model.train()\n",
    "    train_loss = 0\n",
    "    for batch_idx, (data, _) in enumerate(train_loader):\n",
    "        data = data\n",
    "        optimizer.zero_grad()\n",
    "        recon_batch = model(data)\n",
    "        loss = loss_function(recon_batch, data)\n",
    "        loss.backward()\n",
    "        train_loss += loss.item()\n",
    "        optimizer.step()\n",
    "        if batch_idx % args.log_interval == 0:\n",
    "            print('Train Epoch: {} [{}/{} ({:.0f}%)]\\tLoss: {:.6f}'.format(\n",
    "                epoch, batch_idx * len(data), len(train_loader.dataset),\n",
    "                100. * batch_idx / len(train_loader),\n",
    "                loss.item() / len(data)))\n",
    "\n",
    "    print('====> Epoch: {} Average loss: {:.6f}'.format(\n",
    "          epoch, train_loss / len(train_loader.dataset)))\n",
    "\n",
    "\n",
    "def test_basic(epoch, model, model_name):\n",
    "    test_loss = 0\n",
    "    with torch.no_grad():\n",
    "        for i, (data, _) in enumerate(test_loader):\n",
    "            data = data\n",
    "            recon_batch = model(data)\n",
    "            test_loss += loss_function(recon_batch, data).item()\n",
    "            if i == 0:\n",
    "                n = min(data.size(0), 8)\n",
    "                comparison = torch.cat([data[:n],\n",
    "                                      recon_batch.view(args.batch_size, 1, 28, 28)[:n]])\n",
    "                save_image(comparison.cpu(),\n",
    "                         'results/' + model_name +'_reconstruction_' + str(epoch) + '.png', nrow=n)\n",
    "\n",
    "    test_loss /= len(test_loader.dataset)\n",
    "    print('====> Test set loss: {:.6f}'.format(test_loss))"
   ]
  },
  {
   "cell_type": "markdown",
   "metadata": {},
   "source": [
    "Define our two models and train them."
   ]
  },
  {
   "cell_type": "code",
   "execution_count": 7,
   "metadata": {},
   "outputs": [
    {
     "name": "stdout",
     "output_type": "stream",
     "text": [
      "Train Epoch: 1 [0/60000 (0%)]\tLoss: 0.001170\n",
      "Train Epoch: 1 [38400/60000 (64%)]\tLoss: 0.000510\n",
      "====> Epoch: 1 Average loss: 0.000691\n",
      "====> Test set loss: 0.000504\n",
      "Train Epoch: 2 [0/60000 (0%)]\tLoss: 0.000508\n",
      "Train Epoch: 2 [38400/60000 (64%)]\tLoss: 0.000481\n",
      "====> Epoch: 2 Average loss: 0.000480\n",
      "====> Test set loss: 0.000461\n",
      "Train Epoch: 3 [0/60000 (0%)]\tLoss: 0.000465\n",
      "Train Epoch: 3 [38400/60000 (64%)]\tLoss: 0.000427\n",
      "====> Epoch: 3 Average loss: 0.000429\n",
      "====> Test set loss: 0.000405\n",
      "Train Epoch: 4 [0/60000 (0%)]\tLoss: 0.000385\n",
      "Train Epoch: 4 [38400/60000 (64%)]\tLoss: 0.000354\n",
      "====> Epoch: 4 Average loss: 0.000379\n",
      "====> Test set loss: 0.000361\n",
      "Train Epoch: 5 [0/60000 (0%)]\tLoss: 0.000361\n",
      "Train Epoch: 5 [38400/60000 (64%)]\tLoss: 0.000337\n",
      "====> Epoch: 5 Average loss: 0.000347\n",
      "====> Test set loss: 0.000337\n",
      "Train Epoch: 6 [0/60000 (0%)]\tLoss: 0.000340\n",
      "Train Epoch: 6 [38400/60000 (64%)]\tLoss: 0.000327\n",
      "====> Epoch: 6 Average loss: 0.000329\n",
      "====> Test set loss: 0.000324\n",
      "Train Epoch: 7 [0/60000 (0%)]\tLoss: 0.000314\n",
      "Train Epoch: 7 [38400/60000 (64%)]\tLoss: 0.000322\n",
      "====> Epoch: 7 Average loss: 0.000319\n",
      "====> Test set loss: 0.000314\n",
      "Train Epoch: 8 [0/60000 (0%)]\tLoss: 0.000313\n",
      "Train Epoch: 8 [38400/60000 (64%)]\tLoss: 0.000291\n",
      "====> Epoch: 8 Average loss: 0.000310\n",
      "====> Test set loss: 0.000305\n",
      "Train Epoch: 9 [0/60000 (0%)]\tLoss: 0.000309\n",
      "Train Epoch: 9 [38400/60000 (64%)]\tLoss: 0.000305\n",
      "====> Epoch: 9 Average loss: 0.000301\n",
      "====> Test set loss: 0.000297\n",
      "Train Epoch: 10 [0/60000 (0%)]\tLoss: 0.000291\n",
      "Train Epoch: 10 [38400/60000 (64%)]\tLoss: 0.000296\n",
      "====> Epoch: 10 Average loss: 0.000294\n",
      "====> Test set loss: 0.000290\n",
      "Train Epoch: 1 [0/60000 (0%)]\tLoss: 0.000895\n",
      "Train Epoch: 1 [38400/60000 (64%)]\tLoss: 0.000241\n",
      "====> Epoch: 1 Average loss: 0.000315\n",
      "====> Test set loss: 0.000211\n",
      "Train Epoch: 2 [0/60000 (0%)]\tLoss: 0.000205\n",
      "Train Epoch: 2 [38400/60000 (64%)]\tLoss: 0.000176\n",
      "====> Epoch: 2 Average loss: 0.000195\n",
      "====> Test set loss: 0.000182\n",
      "Train Epoch: 3 [0/60000 (0%)]\tLoss: 0.000184\n",
      "Train Epoch: 3 [38400/60000 (64%)]\tLoss: 0.000170\n",
      "====> Epoch: 3 Average loss: 0.000176\n",
      "====> Test set loss: 0.000170\n",
      "Train Epoch: 4 [0/60000 (0%)]\tLoss: 0.000163\n",
      "Train Epoch: 4 [38400/60000 (64%)]\tLoss: 0.000178\n",
      "====> Epoch: 4 Average loss: 0.000166\n",
      "====> Test set loss: 0.000163\n",
      "Train Epoch: 5 [0/60000 (0%)]\tLoss: 0.000160\n",
      "Train Epoch: 5 [38400/60000 (64%)]\tLoss: 0.000147\n",
      "====> Epoch: 5 Average loss: 0.000159\n",
      "====> Test set loss: 0.000156\n",
      "Train Epoch: 6 [0/60000 (0%)]\tLoss: 0.000150\n",
      "Train Epoch: 6 [38400/60000 (64%)]\tLoss: 0.000160\n",
      "====> Epoch: 6 Average loss: 0.000154\n",
      "====> Test set loss: 0.000152\n",
      "Train Epoch: 7 [0/60000 (0%)]\tLoss: 0.000150\n",
      "Train Epoch: 7 [38400/60000 (64%)]\tLoss: 0.000146\n",
      "====> Epoch: 7 Average loss: 0.000150\n",
      "====> Test set loss: 0.000149\n",
      "Train Epoch: 8 [0/60000 (0%)]\tLoss: 0.000144\n",
      "Train Epoch: 8 [38400/60000 (64%)]\tLoss: 0.000155\n",
      "====> Epoch: 8 Average loss: 0.000147\n",
      "====> Test set loss: 0.000146\n",
      "Train Epoch: 9 [0/60000 (0%)]\tLoss: 0.000148\n",
      "Train Epoch: 9 [38400/60000 (64%)]\tLoss: 0.000148\n",
      "====> Epoch: 9 Average loss: 0.000144\n",
      "====> Test set loss: 0.000144\n",
      "Train Epoch: 10 [0/60000 (0%)]\tLoss: 0.000154\n",
      "Train Epoch: 10 [38400/60000 (64%)]\tLoss: 0.000145\n",
      "====> Epoch: 10 Average loss: 0.000142\n",
      "====> Test set loss: 0.000142\n"
     ]
    }
   ],
   "source": [
    "pca_model = PCA()\n",
    "pca_opt = optim.Adam(pca_model.parameters(), lr = 3e-4)\n",
    "for epoch in range(1, args.epochs + 1):\n",
    "    train_basic(epoch, pca_model, pca_opt)\n",
    "    test_basic(epoch, pca_model, \"PytorchPCA\")\n",
    "\n",
    "bottleneck_model = BottleneckAE()\n",
    "bottleneck_opt = optim.Adam(bottleneck_model.parameters(), lr = 3e-4)\n",
    "for epoch in range(1, args.epochs + 1):\n",
    "    train_basic(epoch, bottleneck_model, bottleneck_opt)\n",
    "    test_basic(epoch, bottleneck_model, \"Bottleneck\")"
   ]
  },
  {
   "cell_type": "markdown",
   "metadata": {},
   "source": [
    "To give ourselves context, we can compare these models to the closed-form version of PCA estimated through Scikit learn:"
   ]
  },
  {
   "cell_type": "code",
   "execution_count": 8,
   "metadata": {},
   "outputs": [],
   "source": [
    "from sklearn.decomposition import PCA\n",
    "import numpy as np\n",
    "\n",
    "big_train_loader = torch.utils.data.DataLoader(\n",
    "    datasets.MNIST('../data', train=True, download=True,\n",
    "                   transform=transforms.ToTensor()),\n",
    "    batch_size=int(1e7), shuffle=True)\n",
    "\n",
    "for data, y in big_train_loader:\n",
    "    break\n",
    "\n",
    "X_train = data.view(-1, 784).numpy()\n",
    "pca = PCA(n_components = 10)\n",
    "pca.fit(X_train)\n",
    "\n",
    "def pca_skl(x):\n",
    "    return torch.from_numpy(pca.inverse_transform(pca.transform(x.view(-1, 784).numpy())))"
   ]
  },
  {
   "cell_type": "markdown",
   "metadata": {},
   "source": [
    "And estimate the reconstruction errors on the test set."
   ]
  },
  {
   "cell_type": "code",
   "execution_count": 9,
   "metadata": {},
   "outputs": [
    {
     "name": "stdout",
     "output_type": "stream",
     "text": [
      "Pytorch PCA:\n",
      "====> Test set loss: 0.000290\n",
      "Scikit-learn's PCA:\n",
      "====> Test set loss: 0.000269\n",
      "Pytorch Bottleneck AE:\n",
      "====> Test set loss: 0.000142\n"
     ]
    }
   ],
   "source": [
    "print(\"Pytorch PCA:\")\n",
    "test_basic(-1, pca_model, \"PyrochPCA\")\n",
    "\n",
    "print(\"Scikit-learn's PCA:\")\n",
    "test_basic(-1, pca_skl, \"sklPCA\")\n",
    "\n",
    "print(\"Pytorch Bottleneck AE:\")\n",
    "test_basic(-1, bottleneck_model, \"Bottleneck\")"
   ]
  },
  {
   "cell_type": "markdown",
   "metadata": {},
   "source": [
    "Probably unsurprising that the Bottleneck AE has the lowest reconstruction error.\n",
    "\n",
    "Also unsurprising that Pytorch and Scikit-learn give almost identical errors. They're the same model! The difference here is just because SGD introduces a little bit more noise into this process.\n",
    "\n",
    "# UMAP\n",
    "\n",
    "We can also use embeddings to provide low dimensional embeddings for high-dimensional data for visualization.\n",
    "\n",
    "Let's check out what UMAP looks like on these handwritten digits!"
   ]
  },
  {
   "cell_type": "code",
   "execution_count": 10,
   "metadata": {},
   "outputs": [],
   "source": [
    "import umap.umap_ as umap\n",
    "import matplotlib.pyplot as plt\n",
    "\n",
    "reducer = umap.UMAP(n_neighbors=5)\n",
    "\n",
    "embedding = reducer.fit_transform(X_train)"
   ]
  },
  {
   "cell_type": "code",
   "execution_count": 11,
   "metadata": {},
   "outputs": [
    {
     "data": {
      "image/png": "[encoded data removed]",
      "text/plain": [
       "<Figure size 640x480 with 2 Axes>"
      ]
     },
     "metadata": {},
     "output_type": "display_data"
    }
   ],
   "source": [
    "plt.scatter(\n",
    "    embedding[:, 0],\n",
    "    embedding[:, 1],\n",
    "    c=y,\n",
    "    s=2,\n",
    "    cmap=\"viridis\"\n",
    ")\n",
    "plt.colorbar()\n",
    "plt.title('UMAP projection of the MNIST data', fontsize=16);"
   ]
  },
  {
   "cell_type": "markdown",
   "metadata": {},
   "source": [
    "So each of these clusters represents a particular digit (the color is based on the actual digit label). This shows that UMAP is doing a good job of mapping out this particular form of structure!\n",
    "\n",
    "# Variational Autoencoder\n",
    "\n",
    "We can introduce a more complicated autoencoder which essentially does the following:\n",
    "- Embeds the data in a low dimensional space\n",
    "- Adds some noise to this low dimensional embedding\n",
    "- Tries to reconstruct the original data from this noised embedding."
   ]
  },
  {
   "cell_type": "code",
   "execution_count": 12,
   "metadata": {},
   "outputs": [],
   "source": [
    "class VAE(nn.Module):\n",
    "    def __init__(self):\n",
    "        super(VAE, self).__init__()\n",
    "\n",
    "        self.fc1 = nn.Linear(784, 400)\n",
    "        self.fc21 = nn.Linear(400, 20)\n",
    "        self.fc22 = nn.Linear(400, 20)\n",
    "        self.fc3 = nn.Linear(20, 400)\n",
    "        self.fc4 = nn.Linear(400, 784)\n",
    "\n",
    "    def encode(self, x):\n",
    "        h1 = F.relu(self.fc1(x))\n",
    "        return self.fc21(h1), self.fc22(h1)\n",
    "\n",
    "    def reparameterize(self, mu, logvar):\n",
    "        std = torch.exp(0.5*logvar)\n",
    "        eps = torch.randn_like(std)\n",
    "        return mu + eps*std\n",
    "\n",
    "    def decode(self, z):\n",
    "        h3 = F.relu(self.fc3(z))\n",
    "        return torch.sigmoid(self.fc4(h3))\n",
    "\n",
    "    def forward(self, x):\n",
    "        mu, logvar = self.encode(x.view(-1, 784))\n",
    "        z = self.reparameterize(mu, logvar)\n",
    "        return self.decode(z), mu, logvar"
   ]
  },
  {
   "cell_type": "code",
   "execution_count": 13,
   "metadata": {},
   "outputs": [],
   "source": [
    "model = VAE()\n",
    "optimizer = optim.Adam(model.parameters(), lr=1e-3)\n",
    "\n",
    "\n",
    "# Reconstruction + KL divergence losses summed over all elements and batch\n",
    "def loss_function(recon_x, x, mu, logvar):\n",
    "    # This is the equivalent of the reconstruction error part of the objective\n",
    "    BCE = F.binary_cross_entropy(recon_x, x.view(-1, 784), reduction='sum')\n",
    "\n",
    "    # see Appendix B from VAE paper:\n",
    "    # Kingma and Welling. Auto-Encoding Variational Bayes. ICLR, 2014\n",
    "    # https://arxiv.org/abs/1312.6114\n",
    "    # 0.5 * sum(1 + log(sigma^2) - mu^2 - sigma^2)\n",
    "    # You can think of this as a regularizer that makes sure we're actually\n",
    "    # adding noise between the encoding and the decoding.\n",
    "    KLD = -0.5 * torch.sum(1 + logvar - mu.pow(2) - logvar.exp())\n",
    "\n",
    "    return BCE + KLD\n",
    "\n",
    "\n",
    "def train_vae(epoch):\n",
    "    model.train()\n",
    "    train_loss = 0\n",
    "    for batch_idx, (data, _) in enumerate(train_loader):\n",
    "        data = data\n",
    "        optimizer.zero_grad()\n",
    "        recon_batch, mu, logvar = model(data)\n",
    "        loss = loss_function(recon_batch, data, mu, logvar)\n",
    "        loss.backward()\n",
    "        train_loss += loss.item()\n",
    "        optimizer.step()\n",
    "        if batch_idx % args.log_interval == 0:\n",
    "            print('Train Epoch: {} [{}/{} ({:.0f}%)]\\tLoss: {:.6f}'.format(\n",
    "                epoch, batch_idx * len(data), len(train_loader.dataset),\n",
    "                100. * batch_idx / len(train_loader),\n",
    "                loss.item() / len(data)))\n",
    "\n",
    "    print('====> Epoch: {} Average loss: {:.4f}'.format(\n",
    "          epoch, train_loss / len(train_loader.dataset)))\n",
    "\n",
    "\n",
    "def test_vae(epoch):\n",
    "    model.eval()\n",
    "    test_loss = 0\n",
    "    with torch.no_grad():\n",
    "        for i, (data, _) in enumerate(test_loader):\n",
    "            data = data\n",
    "            recon_batch, mu, logvar = model(data)\n",
    "            test_loss += loss_function(recon_batch, data, mu, logvar).item()\n",
    "            if i == 0:\n",
    "                n = min(data.size(0), 8)\n",
    "                comparison = torch.cat([data[:n],\n",
    "                                      recon_batch.view(args.batch_size, 1, 28, 28)[:n]])\n",
    "                save_image(comparison.cpu(),\n",
    "                         'results/VAE_reconstruction_' + str(epoch) + '.png', nrow=n)\n",
    "\n",
    "    test_loss /= len(test_loader.dataset)\n",
    "    print('====> Test set loss: {:.4f}'.format(test_loss))"
   ]
  },
  {
   "cell_type": "code",
   "execution_count": 14,
   "metadata": {},
   "outputs": [
    {
     "name": "stdout",
     "output_type": "stream",
     "text": [
      "Train Epoch: 1 [0/60000 (0%)]\tLoss: 550.648376\n",
      "Train Epoch: 1 [38400/60000 (64%)]\tLoss: 142.227478\n",
      "====> Epoch: 1 Average loss: 164.6946\n",
      "====> Test set loss: 127.0711\n",
      "Train Epoch: 2 [0/60000 (0%)]\tLoss: 127.386658\n",
      "Train Epoch: 2 [38400/60000 (64%)]\tLoss: 122.170067\n",
      "====> Epoch: 2 Average loss: 121.3379\n",
      "====> Test set loss: 115.7815\n",
      "Train Epoch: 3 [0/60000 (0%)]\tLoss: 116.731369\n",
      "Train Epoch: 3 [38400/60000 (64%)]\tLoss: 116.316605\n",
      "====> Epoch: 3 Average loss: 114.4400\n",
      "====> Test set loss: 111.6867\n",
      "Train Epoch: 4 [0/60000 (0%)]\tLoss: 112.839073\n",
      "Train Epoch: 4 [38400/60000 (64%)]\tLoss: 111.478241\n",
      "====> Epoch: 4 Average loss: 111.4155\n",
      "====> Test set loss: 109.5314\n",
      "Train Epoch: 5 [0/60000 (0%)]\tLoss: 110.516319\n",
      "Train Epoch: 5 [38400/60000 (64%)]\tLoss: 105.615173\n",
      "====> Epoch: 5 Average loss: 109.7248\n",
      "====> Test set loss: 108.6146\n",
      "Train Epoch: 6 [0/60000 (0%)]\tLoss: 108.552284\n",
      "Train Epoch: 6 [38400/60000 (64%)]\tLoss: 109.551620\n",
      "====> Epoch: 6 Average loss: 108.5704\n",
      "====> Test set loss: 107.3121\n",
      "Train Epoch: 7 [0/60000 (0%)]\tLoss: 107.600960\n",
      "Train Epoch: 7 [38400/60000 (64%)]\tLoss: 106.591461\n",
      "====> Epoch: 7 Average loss: 107.7750\n",
      "====> Test set loss: 106.5985\n",
      "Train Epoch: 8 [0/60000 (0%)]\tLoss: 108.986588\n",
      "Train Epoch: 8 [38400/60000 (64%)]\tLoss: 107.173248\n",
      "====> Epoch: 8 Average loss: 107.1798\n",
      "====> Test set loss: 106.3408\n",
      "Train Epoch: 9 [0/60000 (0%)]\tLoss: 107.951843\n",
      "Train Epoch: 9 [38400/60000 (64%)]\tLoss: 102.819633\n",
      "====> Epoch: 9 Average loss: 106.6192\n",
      "====> Test set loss: 106.0556\n",
      "Train Epoch: 10 [0/60000 (0%)]\tLoss: 107.165611\n",
      "Train Epoch: 10 [38400/60000 (64%)]\tLoss: 104.449066\n",
      "====> Epoch: 10 Average loss: 106.2297\n",
      "====> Test set loss: 105.6165\n"
     ]
    }
   ],
   "source": [
    "for epoch in range(1, args.epochs + 1):\n",
    "    train_vae(epoch)\n",
    "    test_vae(epoch)\n",
    "    with torch.no_grad():\n",
    "        sample = torch.randn(64, 20)\n",
    "        sample = model.decode(sample).cpu()\n",
    "        save_image(sample.view(64, 1, 28, 28),\n",
    "                    'results/vae_sample_' + str(epoch) + '.png')"
   ]
  },
  {
   "cell_type": "code",
   "execution_count": 15,
   "metadata": {},
   "outputs": [
    {
     "name": "stdout",
     "output_type": "stream",
     "text": [
      "====> Test set loss: 0.000105\n"
     ]
    }
   ],
   "source": [
    "def vae_reconstruct(x):\n",
    "    recon_batch, _, _ = model(x)\n",
    "    return recon_batch\n",
    "\n",
    "loss_function = reconstruction_error\n",
    "\n",
    "test_basic(-1, vae_reconstruct, \"VAE\")"
   ]
  },
  {
   "cell_type": "markdown",
   "metadata": {},
   "source": [
    "This is the lowest reconstruction error we've calculated thus far!"
   ]
  }
 ],
 "metadata": {
  "kernelspec": {
   "display_name": "Python 3",
   "language": "python",
   "name": "python3"
  },
  "language_info": {
   "codemirror_mode": {
    "name": "ipython",
    "version": 3
   },
   "file_extension": ".py",
   "mimetype": "text/x-python",
   "name": "python",
   "nbconvert_exporter": "python",
   "pygments_lexer": "ipython3",
   "version": "3.11.4"
  }
 },
 "nbformat": 4,
 "nbformat_minor": 2
}
